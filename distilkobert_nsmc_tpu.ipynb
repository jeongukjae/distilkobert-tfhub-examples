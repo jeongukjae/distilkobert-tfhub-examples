{
  "nbformat": 4,
  "nbformat_minor": 0,
  "metadata": {
    "colab": {
      "name": "distilkobert-nsmc-tpu.ipynb",
      "provenance": [],
      "collapsed_sections": [],
      "authorship_tag": "ABX9TyOp5HVni8vNYFctiN6EOiwO",
      "include_colab_link": true
    },
    "kernelspec": {
      "name": "python3",
      "display_name": "Python 3"
    },
    "language_info": {
      "name": "python"
    },
    "accelerator": "TPU"
  },
  "cells": [
    {
      "cell_type": "markdown",
      "metadata": {
        "id": "view-in-github",
        "colab_type": "text"
      },
      "source": [
        "<a href=\"https://colab.research.google.com/github/jeongukjae/distilkobert-tfhub-examples/blob/main/distilkobert_nsmc_tpu.ipynb\" target=\"_parent\"><img src=\"https://colab.research.google.com/assets/colab-badge.svg\" alt=\"Open In Colab\"/></a>"
      ]
    },
    {
      "cell_type": "markdown",
      "metadata": {
        "id": "zfiK_QExt6Tp"
      },
      "source": [
        "# Training DistilKoBERT on NSMC dataset\n",
        "\n",
        "* nsmc dataset: https://jeongukjae.github.io/tfds-korean/datasets/nsmc.html\n",
        "* distilkobert\n",
        "    * encoder: https://tfhub.dev/jeongukjae/distilkobert_cased_L-3_H-768_A-12/1\n",
        "    * preprocessor: https://tfhub.dev/jeongukjae/distilkobert_cased_preprocess/1"
      ]
    },
    {
      "cell_type": "markdown",
      "metadata": {
        "id": "ttTij8Wxunvj"
      },
      "source": [
        "## Install pacakges"
      ]
    },
    {
      "cell_type": "code",
      "metadata": {
        "id": "kYHYOh3tpX4q"
      },
      "source": [
        "!pip install -q \\\n",
        "    tensorflow-text \\\n",
        "    tfds-korean"
      ],
      "execution_count": 1,
      "outputs": []
    },
    {
      "cell_type": "markdown",
      "metadata": {
        "id": "Kl-rCywwurVs"
      },
      "source": [
        "## Prepare environments"
      ]
    },
    {
      "cell_type": "code",
      "metadata": {
        "id": "GWNDNIMNpe8v"
      },
      "source": [
        "import math\n",
        "\n",
        "import tensorflow as tf\n",
        "import tensorflow_text as text\n",
        "import tensorflow_hub as hub\n",
        "import tensorflow_datasets as tfds\n",
        "\n",
        "import tfds_korean.nsmc"
      ],
      "execution_count": 2,
      "outputs": []
    },
    {
      "cell_type": "code",
      "metadata": {
        "id": "j4Inyd4Op4DQ"
      },
      "source": [
        "import os\n",
        "\n",
        "os.environ[\"TFHUB_MODEL_LOAD_FORMAT\"] = \"UNCOMPRESSED\""
      ],
      "execution_count": 3,
      "outputs": []
    },
    {
      "cell_type": "code",
      "metadata": {
        "colab": {
          "base_uri": "https://localhost:8080/"
        },
        "id": "ZsyCvonGp2PG",
        "outputId": "4cb7cfec-1fd8-4412-e9dd-268453d596a0"
      },
      "source": [
        "cluster_resolver = tf.distribute.cluster_resolver.TPUClusterResolver(tpu='')\n",
        "tf.config.experimental_connect_to_cluster(cluster_resolver)\n",
        "tf.tpu.experimental.initialize_tpu_system(cluster_resolver)\n",
        "strategy = tf.distribute.TPUStrategy(cluster_resolver)"
      ],
      "execution_count": 4,
      "outputs": [
        {
          "output_type": "stream",
          "name": "stdout",
          "text": [
            "INFO:tensorflow:Deallocate tpu buffers before initializing tpu system.\n"
          ]
        },
        {
          "output_type": "stream",
          "name": "stderr",
          "text": [
            "INFO:tensorflow:Deallocate tpu buffers before initializing tpu system.\n"
          ]
        },
        {
          "output_type": "stream",
          "name": "stdout",
          "text": [
            "INFO:tensorflow:Initializing the TPU system: grpc://10.107.77.226:8470\n"
          ]
        },
        {
          "output_type": "stream",
          "name": "stderr",
          "text": [
            "INFO:tensorflow:Initializing the TPU system: grpc://10.107.77.226:8470\n"
          ]
        },
        {
          "output_type": "stream",
          "name": "stdout",
          "text": [
            "INFO:tensorflow:Finished initializing TPU system.\n"
          ]
        },
        {
          "output_type": "stream",
          "name": "stderr",
          "text": [
            "INFO:tensorflow:Finished initializing TPU system.\n"
          ]
        },
        {
          "output_type": "stream",
          "name": "stdout",
          "text": [
            "INFO:tensorflow:Found TPU system:\n"
          ]
        },
        {
          "output_type": "stream",
          "name": "stderr",
          "text": [
            "INFO:tensorflow:Found TPU system:\n"
          ]
        },
        {
          "output_type": "stream",
          "name": "stdout",
          "text": [
            "INFO:tensorflow:*** Num TPU Cores: 8\n"
          ]
        },
        {
          "output_type": "stream",
          "name": "stderr",
          "text": [
            "INFO:tensorflow:*** Num TPU Cores: 8\n"
          ]
        },
        {
          "output_type": "stream",
          "name": "stdout",
          "text": [
            "INFO:tensorflow:*** Num TPU Workers: 1\n"
          ]
        },
        {
          "output_type": "stream",
          "name": "stderr",
          "text": [
            "INFO:tensorflow:*** Num TPU Workers: 1\n"
          ]
        },
        {
          "output_type": "stream",
          "name": "stdout",
          "text": [
            "INFO:tensorflow:*** Num TPU Cores Per Worker: 8\n"
          ]
        },
        {
          "output_type": "stream",
          "name": "stderr",
          "text": [
            "INFO:tensorflow:*** Num TPU Cores Per Worker: 8\n"
          ]
        },
        {
          "output_type": "stream",
          "name": "stdout",
          "text": [
            "INFO:tensorflow:*** Available Device: _DeviceAttributes(/job:localhost/replica:0/task:0/device:CPU:0, CPU, 0, 0)\n"
          ]
        },
        {
          "output_type": "stream",
          "name": "stderr",
          "text": [
            "INFO:tensorflow:*** Available Device: _DeviceAttributes(/job:localhost/replica:0/task:0/device:CPU:0, CPU, 0, 0)\n"
          ]
        },
        {
          "output_type": "stream",
          "name": "stdout",
          "text": [
            "INFO:tensorflow:*** Available Device: _DeviceAttributes(/job:worker/replica:0/task:0/device:CPU:0, CPU, 0, 0)\n"
          ]
        },
        {
          "output_type": "stream",
          "name": "stderr",
          "text": [
            "INFO:tensorflow:*** Available Device: _DeviceAttributes(/job:worker/replica:0/task:0/device:CPU:0, CPU, 0, 0)\n"
          ]
        },
        {
          "output_type": "stream",
          "name": "stdout",
          "text": [
            "INFO:tensorflow:*** Available Device: _DeviceAttributes(/job:worker/replica:0/task:0/device:TPU:0, TPU, 0, 0)\n"
          ]
        },
        {
          "output_type": "stream",
          "name": "stderr",
          "text": [
            "INFO:tensorflow:*** Available Device: _DeviceAttributes(/job:worker/replica:0/task:0/device:TPU:0, TPU, 0, 0)\n"
          ]
        },
        {
          "output_type": "stream",
          "name": "stdout",
          "text": [
            "INFO:tensorflow:*** Available Device: _DeviceAttributes(/job:worker/replica:0/task:0/device:TPU:1, TPU, 0, 0)\n"
          ]
        },
        {
          "output_type": "stream",
          "name": "stderr",
          "text": [
            "INFO:tensorflow:*** Available Device: _DeviceAttributes(/job:worker/replica:0/task:0/device:TPU:1, TPU, 0, 0)\n"
          ]
        },
        {
          "output_type": "stream",
          "name": "stdout",
          "text": [
            "INFO:tensorflow:*** Available Device: _DeviceAttributes(/job:worker/replica:0/task:0/device:TPU:2, TPU, 0, 0)\n"
          ]
        },
        {
          "output_type": "stream",
          "name": "stderr",
          "text": [
            "INFO:tensorflow:*** Available Device: _DeviceAttributes(/job:worker/replica:0/task:0/device:TPU:2, TPU, 0, 0)\n"
          ]
        },
        {
          "output_type": "stream",
          "name": "stdout",
          "text": [
            "INFO:tensorflow:*** Available Device: _DeviceAttributes(/job:worker/replica:0/task:0/device:TPU:3, TPU, 0, 0)\n"
          ]
        },
        {
          "output_type": "stream",
          "name": "stderr",
          "text": [
            "INFO:tensorflow:*** Available Device: _DeviceAttributes(/job:worker/replica:0/task:0/device:TPU:3, TPU, 0, 0)\n"
          ]
        },
        {
          "output_type": "stream",
          "name": "stdout",
          "text": [
            "INFO:tensorflow:*** Available Device: _DeviceAttributes(/job:worker/replica:0/task:0/device:TPU:4, TPU, 0, 0)\n"
          ]
        },
        {
          "output_type": "stream",
          "name": "stderr",
          "text": [
            "INFO:tensorflow:*** Available Device: _DeviceAttributes(/job:worker/replica:0/task:0/device:TPU:4, TPU, 0, 0)\n"
          ]
        },
        {
          "output_type": "stream",
          "name": "stdout",
          "text": [
            "INFO:tensorflow:*** Available Device: _DeviceAttributes(/job:worker/replica:0/task:0/device:TPU:5, TPU, 0, 0)\n"
          ]
        },
        {
          "output_type": "stream",
          "name": "stderr",
          "text": [
            "INFO:tensorflow:*** Available Device: _DeviceAttributes(/job:worker/replica:0/task:0/device:TPU:5, TPU, 0, 0)\n"
          ]
        },
        {
          "output_type": "stream",
          "name": "stdout",
          "text": [
            "INFO:tensorflow:*** Available Device: _DeviceAttributes(/job:worker/replica:0/task:0/device:TPU:6, TPU, 0, 0)\n"
          ]
        },
        {
          "output_type": "stream",
          "name": "stderr",
          "text": [
            "INFO:tensorflow:*** Available Device: _DeviceAttributes(/job:worker/replica:0/task:0/device:TPU:6, TPU, 0, 0)\n"
          ]
        },
        {
          "output_type": "stream",
          "name": "stdout",
          "text": [
            "INFO:tensorflow:*** Available Device: _DeviceAttributes(/job:worker/replica:0/task:0/device:TPU:7, TPU, 0, 0)\n"
          ]
        },
        {
          "output_type": "stream",
          "name": "stderr",
          "text": [
            "INFO:tensorflow:*** Available Device: _DeviceAttributes(/job:worker/replica:0/task:0/device:TPU:7, TPU, 0, 0)\n"
          ]
        },
        {
          "output_type": "stream",
          "name": "stdout",
          "text": [
            "INFO:tensorflow:*** Available Device: _DeviceAttributes(/job:worker/replica:0/task:0/device:TPU_SYSTEM:0, TPU_SYSTEM, 0, 0)\n"
          ]
        },
        {
          "output_type": "stream",
          "name": "stderr",
          "text": [
            "INFO:tensorflow:*** Available Device: _DeviceAttributes(/job:worker/replica:0/task:0/device:TPU_SYSTEM:0, TPU_SYSTEM, 0, 0)\n"
          ]
        },
        {
          "output_type": "stream",
          "name": "stdout",
          "text": [
            "INFO:tensorflow:*** Available Device: _DeviceAttributes(/job:worker/replica:0/task:0/device:XLA_CPU:0, XLA_CPU, 0, 0)\n"
          ]
        },
        {
          "output_type": "stream",
          "name": "stderr",
          "text": [
            "INFO:tensorflow:*** Available Device: _DeviceAttributes(/job:worker/replica:0/task:0/device:XLA_CPU:0, XLA_CPU, 0, 0)\n"
          ]
        }
      ]
    },
    {
      "cell_type": "markdown",
      "metadata": {
        "id": "kKvTiJAHuwJY"
      },
      "source": [
        "## Set up hyperparameters and build models"
      ]
    },
    {
      "cell_type": "code",
      "metadata": {
        "id": "CCVR5ggfpvi1"
      },
      "source": [
        "BATCH_SIZE = 64\n",
        "LEARNING_RATE = 2e-4\n",
        "EPOCHS = 3\n",
        "WARMUP_RATE = 0.1"
      ],
      "execution_count": 5,
      "outputs": []
    },
    {
      "cell_type": "code",
      "metadata": {
        "id": "MO6kGKv6p6ay"
      },
      "source": [
        "def create_preprocessing_model():\n",
        "    return hub.KerasLayer(\"https://tfhub.dev/jeongukjae/distilkobert_cased_preprocess/1\")\n",
        "\n",
        "def create_model():\n",
        "    encoder = hub.KerasLayer(\"https://tfhub.dev/jeongukjae/distilkobert_cased_L-3_H-768_A-12/1\", trainable=True)\n",
        "    inputs = {\n",
        "        \"input_word_ids\": tf.keras.Input([None], dtype=tf.int32, name=\"input_word_ids\"),\n",
        "        \"input_mask\": tf.keras.Input([None], dtype=tf.int32, name=\"input_mask\"),\n",
        "    }\n",
        "    logit = encoder(inputs)['pooled_output']\n",
        "    logit = tf.keras.layers.Dropout(0.1)(logit)\n",
        "    pred = tf.keras.layers.Dense(2)(logit)\n",
        "    model = tf.keras.Model(inputs, pred)\n",
        "    model.summary()\n",
        "    return model"
      ],
      "execution_count": 6,
      "outputs": []
    },
    {
      "cell_type": "code",
      "metadata": {
        "id": "q2nLPye4p69g"
      },
      "source": [
        "class BertScheduler(tf.keras.optimizers.schedules.LearningRateSchedule):\n",
        "    def __init__(self, rate, warmup_ratio, total_steps, name=None):\n",
        "        super().__init__()\n",
        "\n",
        "        self.rate = rate\n",
        "        self.warmup_ratio = warmup_ratio\n",
        "        self.total_steps = float(total_steps)\n",
        "        self.warmup_steps = warmup_ratio * total_steps\n",
        "        self.name = name\n",
        "\n",
        "    def __call__(self, step):\n",
        "        with tf.name_scope(\"BertScheduler\"):\n",
        "            total_steps = tf.convert_to_tensor(self.total_steps, name=\"total_steps\")\n",
        "            warmup_steps = tf.convert_to_tensor(self.warmup_steps, name=\"warmup_steps\")\n",
        "\n",
        "            current_step = step + 1.0\n",
        "\n",
        "            return self.rate * tf.cond(\n",
        "                current_step < warmup_steps,\n",
        "                lambda: self.warmup(current_step, warmup_steps),\n",
        "                lambda: self.decay(current_step, total_steps, warmup_steps),\n",
        "            )\n",
        "\n",
        "    @tf.function\n",
        "    def warmup(self, step, warmup_steps):\n",
        "        return step / tf.math.maximum(tf.constant(1.0), warmup_steps)\n",
        "\n",
        "    @tf.function\n",
        "    def decay(self, step, total_steps, warmup_steps):\n",
        "        return tf.math.maximum(\n",
        "            tf.constant(0.0), (total_steps - step) / tf.math.maximum(tf.constant(1.0), total_steps - warmup_steps)\n",
        "        )"
      ],
      "execution_count": 7,
      "outputs": []
    },
    {
      "cell_type": "markdown",
      "metadata": {
        "id": "VxUBTHjwu52M"
      },
      "source": [
        "## Prepare datasets"
      ]
    },
    {
      "cell_type": "code",
      "metadata": {
        "id": "3QdsdGwyq1tI"
      },
      "source": [
        "def get_dataset(preprocessor, batch_size):\n",
        "    with tf.device('/job:localhost'):\n",
        "        # batch_size=-1 is a way to load the dataset into memory\n",
        "        in_memory_ds = tfds.load(\"nsmc\", batch_size=-1, shuffle_files=True)\n",
        "\n",
        "    tfds_info = tfds.builder(\"nsmc\").info\n",
        "    train_ds = tf.data.Dataset.from_tensor_slices(in_memory_ds['train'])\n",
        "    test_ds = tf.data.Dataset.from_tensor_slices(in_memory_ds['test'])\n",
        "    num_examples = tfds_info.splits['train'].num_examples\n",
        "\n",
        "    train_ds = (\n",
        "        train_ds\n",
        "        .shuffle(num_examples, reshuffle_each_iteration=True)\n",
        "        .batch(batch_size, drop_remainder=True)\n",
        "        .map(lambda x: (preprocessor(x['document']), x['label']), num_parallel_calls=tf.data.AUTOTUNE)\n",
        "    )\n",
        "    test_ds = (\n",
        "        test_ds\n",
        "        .batch(batch_size)\n",
        "        .map(lambda x: (preprocessor(x['document']), x['label']), num_parallel_calls=tf.data.AUTOTUNE)\n",
        "    )\n",
        "    return (train_ds, test_ds), num_examples"
      ],
      "execution_count": 8,
      "outputs": []
    },
    {
      "cell_type": "markdown",
      "metadata": {
        "id": "_ftxKDfSu8hZ"
      },
      "source": [
        "## Run train"
      ]
    },
    {
      "cell_type": "code",
      "metadata": {
        "colab": {
          "base_uri": "https://localhost:8080/"
        },
        "id": "Z-ztTKdVq5CU",
        "outputId": "c3270440-11c9-4567-842c-46c0ac7bb4ee"
      },
      "source": [
        "preprocessor = create_preprocessing_model()\n",
        "\n",
        "\n",
        "with strategy.scope():\n",
        "    (train_ds, test_ds), num_examples = get_dataset(preprocessor, BATCH_SIZE)\n",
        "    print(\"Element spec:\", train_ds.element_spec)\n",
        "    print(\"Num examples:\", num_examples)\n",
        "    steps_per_epoch = math.ceil(num_examples / BATCH_SIZE)\n",
        "    print(\"steps per epoch:\", steps_per_epoch)\n",
        "    num_train_steps = steps_per_epoch * EPOCHS\n",
        "    print(\"total num steps:\", num_train_steps)\n",
        "\n",
        "    model = create_model()\n",
        "    model.compile(\n",
        "        loss=tf.keras.losses.SparseCategoricalCrossentropy(from_logits=True),\n",
        "        optimizer=tf.keras.optimizers.Adam(learning_rate=BertScheduler(LEARNING_RATE, WARMUP_RATE, num_train_steps)),\n",
        "        metrics=['acc']\n",
        "    )\n",
        "\n",
        "    model.fit(\n",
        "        train_ds,\n",
        "        epochs=EPOCHS,\n",
        "        validation_data=test_ds,\n",
        "    )"
      ],
      "execution_count": 9,
      "outputs": [
        {
          "output_type": "stream",
          "name": "stdout",
          "text": [
            "WARNING:tensorflow:From /usr/local/lib/python3.7/dist-packages/tensorflow_datasets/core/dataset_builder.py:622: get_single_element (from tensorflow.python.data.experimental.ops.get_single_element) is deprecated and will be removed in a future version.\n",
            "Instructions for updating:\n",
            "Use `tf.data.Dataset.get_single_element()`.\n"
          ]
        },
        {
          "output_type": "stream",
          "name": "stderr",
          "text": [
            "WARNING:tensorflow:From /usr/local/lib/python3.7/dist-packages/tensorflow_datasets/core/dataset_builder.py:622: get_single_element (from tensorflow.python.data.experimental.ops.get_single_element) is deprecated and will be removed in a future version.\n",
            "Instructions for updating:\n",
            "Use `tf.data.Dataset.get_single_element()`.\n"
          ]
        },
        {
          "output_type": "stream",
          "name": "stdout",
          "text": [
            "Element spec: ({'input_word_ids': TensorSpec(shape=(64, 128), dtype=tf.int32, name=None), 'input_mask': TensorSpec(shape=(64, 128), dtype=tf.int32, name=None)}, TensorSpec(shape=(64,), dtype=tf.int64, name=None))\n",
            "Num examples: 150000\n",
            "steps per epoch: 2344\n",
            "total num steps: 7032\n",
            "Model: \"model\"\n",
            "__________________________________________________________________________________________________\n",
            " Layer (type)                   Output Shape         Param #     Connected to                     \n",
            "==================================================================================================\n",
            " input_mask (InputLayer)        [(None, None)]       0           []                               \n",
            "                                                                                                  \n",
            " input_word_ids (InputLayer)    [(None, None)]       0           []                               \n",
            "                                                                                                  \n",
            " keras_layer_1 (KerasLayer)     {'encoder_outputs':  27803904    ['input_mask[0][0]',             \n",
            "                                 [(None, None, 768)               'input_word_ids[0][0]']         \n",
            "                                , (None, None, 768)                                               \n",
            "                                , (None, None, 768)                                               \n",
            "                                ],                                                                \n",
            "                                 'sequence_output':                                               \n",
            "                                 (None, None, 768),                                               \n",
            "                                 'pooled_output': (                                               \n",
            "                                None, 768)}                                                       \n",
            "                                                                                                  \n",
            " dropout (Dropout)              (None, 768)          0           ['keras_layer_1[0][3]']          \n",
            "                                                                                                  \n",
            " dense (Dense)                  (None, 2)            1538        ['dropout[0][0]']                \n",
            "                                                                                                  \n",
            "==================================================================================================\n",
            "Total params: 27,805,442\n",
            "Trainable params: 27,805,442\n",
            "Non-trainable params: 0\n",
            "__________________________________________________________________________________________________\n",
            "Epoch 1/3\n"
          ]
        },
        {
          "output_type": "stream",
          "name": "stderr",
          "text": [
            "/usr/local/lib/python3.7/dist-packages/tensorflow/python/framework/indexed_slices.py:450: UserWarning: Converting sparse IndexedSlices(IndexedSlices(indices=Tensor(\"Adam/gradients/PartitionedCall:1\", shape=(None,), dtype=int32), values=Tensor(\"Adam/gradients/PartitionedCall:0\", shape=(None, 768), dtype=float32), dense_shape=Tensor(\"Adam/gradients/PartitionedCall:2\", shape=(2,), dtype=int32))) to a dense Tensor of unknown shape. This may consume a large amount of memory.\n",
            "  \"shape. This may consume a large amount of memory.\" % value)\n"
          ]
        },
        {
          "output_type": "stream",
          "name": "stdout",
          "text": [
            "WARNING:tensorflow:From /usr/local/lib/python3.7/dist-packages/keras/engine/training.py:2970: StrategyBase.unwrap (from tensorflow.python.distribute.distribute_lib) is deprecated and will be removed in a future version.\n",
            "Instructions for updating:\n",
            "use `experimental_local_results` instead.\n"
          ]
        },
        {
          "output_type": "stream",
          "name": "stderr",
          "text": [
            "WARNING:tensorflow:From /usr/local/lib/python3.7/dist-packages/keras/engine/training.py:2970: StrategyBase.unwrap (from tensorflow.python.distribute.distribute_lib) is deprecated and will be removed in a future version.\n",
            "Instructions for updating:\n",
            "use `experimental_local_results` instead.\n"
          ]
        },
        {
          "output_type": "stream",
          "name": "stdout",
          "text": [
            "2343/2343 [==============================] - 124s 39ms/step - loss: 0.3900 - acc: 0.8173 - val_loss: 0.3101 - val_acc: 0.8711\n",
            "Epoch 2/3\n",
            "2343/2343 [==============================] - 87s 37ms/step - loss: 0.2684 - acc: 0.8885 - val_loss: 0.2812 - val_acc: 0.8840\n",
            "Epoch 3/3\n",
            "2343/2343 [==============================] - 87s 37ms/step - loss: 0.2105 - acc: 0.9161 - val_loss: 0.3093 - val_acc: 0.8853\n"
          ]
        }
      ]
    },
    {
      "cell_type": "markdown",
      "metadata": {
        "id": "a8TVAYm4u-LP"
      },
      "source": [
        "## Save Model"
      ]
    },
    {
      "cell_type": "code",
      "metadata": {
        "colab": {
          "base_uri": "https://localhost:8080/"
        },
        "id": "Ksg4gOagrBo_",
        "outputId": "d2faa38e-48fb-440b-9dad-afea9018f0aa"
      },
      "source": [
        "save_options = tf.saved_model.SaveOptions(experimental_io_device='/job:localhost')\n",
        "model.save(\"distilkobert_nsmc\", include_optimizer=False, options=save_options)"
      ],
      "execution_count": 10,
      "outputs": [
        {
          "output_type": "stream",
          "name": "stderr",
          "text": [
            "WARNING:absl:Found untraced functions such as restored_function_body, restored_function_body, restored_function_body, restored_function_body, restored_function_body while saving (showing 5 of 225). These functions will not be directly callable after loading.\n"
          ]
        },
        {
          "output_type": "stream",
          "name": "stdout",
          "text": [
            "INFO:tensorflow:Assets written to: distilkobert_nsmc/assets\n"
          ]
        },
        {
          "output_type": "stream",
          "name": "stderr",
          "text": [
            "INFO:tensorflow:Assets written to: distilkobert_nsmc/assets\n"
          ]
        }
      ]
    }
  ]
}